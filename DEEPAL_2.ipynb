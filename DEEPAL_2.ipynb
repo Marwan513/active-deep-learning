{
  "cells": [
    {
      "cell_type": "code",
      "source": [
        "!git clone https://github.com/ej0cl6/deep-active-learning"
      ],
      "metadata": {
        "colab": {
          "base_uri": "https://localhost:8080/"
        },
        "id": "bFXxwEW_l1JP",
        "outputId": "66bf5d50-0a94-4d06-c9f0-fdc603386224"
      },
      "execution_count": null,
      "outputs": [
        {
          "output_type": "stream",
          "name": "stdout",
          "text": [
            "Cloning into 'deep-active-learning'...\n",
            "remote: Enumerating objects: 232, done.\u001b[K\n",
            "remote: Total 232 (delta 0), reused 0 (delta 0), pack-reused 232\u001b[K\n",
            "Receiving objects: 100% (232/232), 44.12 KiB | 3.39 MiB/s, done.\n",
            "Resolving deltas: 100% (141/141), done.\n"
          ]
        }
      ]
    },
    {
      "cell_type": "code",
      "source": [
        "!python /content/deep-active-learning/demo.py  --dataset_name \"CIFAR10\" "
      ],
      "metadata": {
        "colab": {
          "base_uri": "https://localhost:8080/"
        },
        "id": "UNVw4-7Tl1G3",
        "outputId": "2a714429-f5b9-4e35-8f4c-bea37b224a92"
      },
      "execution_count": null,
      "outputs": [
        {
          "output_type": "stream",
          "name": "stdout",
          "text": [
            "{'dataset_name': 'CIFAR10',\n",
            " 'n_init_labeled': 10000,\n",
            " 'n_query': 1000,\n",
            " 'n_round': 10,\n",
            " 'seed': 1,\n",
            " 'strategy_name': 'RandomSampling'}\n",
            "\n",
            "Files already downloaded and verified\n",
            "Files already downloaded and verified\n",
            "Train size: 50000 , Test size: 10000\n",
            "number of labeled pool: 10000\n",
            "number of unlabeled pool: 40000\n",
            "number of testing pool: 10000\n",
            "\n",
            "Round 0\n",
            "100%|███████████████████████████████████████████████████████████████| 20/20 [01:22<00:00,  4.14s/it]\n",
            "Round 0 trainig accuracy: 0.59434\n",
            "Round 0 testing accuracy: 0.5499\n",
            "Round 1\n",
            "100%|███████████████████████████████████████████████████████████████| 20/20 [01:29<00:00,  4.45s/it]\n",
            "Round 1 training accuracy: 0.62666\n",
            "Round 1 testing accuracy: 0.5898\n",
            "Round 2\n",
            "100%|███████████████████████████████████████████████████████████████| 20/20 [01:37<00:00,  4.86s/it]\n",
            "Round 2 training accuracy: 0.63734\n",
            "Round 2 testing accuracy: 0.5828\n",
            "Round 3\n",
            "100%|███████████████████████████████████████████████████████████████| 20/20 [01:44<00:00,  5.24s/it]\n",
            "Round 3 training accuracy: 0.44504\n",
            "Round 3 testing accuracy: 0.4255\n",
            "Round 4\n",
            "100%|███████████████████████████████████████████████████████████████| 20/20 [01:55<00:00,  5.77s/it]\n",
            "Round 4 training accuracy: 0.65722\n",
            "Round 4 testing accuracy: 0.6084\n",
            "Round 5\n",
            "100%|███████████████████████████████████████████████████████████████| 20/20 [02:03<00:00,  6.18s/it]\n",
            "Round 5 training accuracy: 0.613\n",
            "Round 5 testing accuracy: 0.5726\n",
            "Round 6\n",
            "100%|███████████████████████████████████████████████████████████████| 20/20 [02:09<00:00,  6.47s/it]\n",
            "Round 6 training accuracy: 0.6869\n",
            "Round 6 testing accuracy: 0.6275\n",
            "Round 7\n",
            "100%|███████████████████████████████████████████████████████████████| 20/20 [02:16<00:00,  6.81s/it]\n",
            "Round 7 training accuracy: 0.68188\n",
            "Round 7 testing accuracy: 0.6221\n",
            "Round 8\n",
            "100%|███████████████████████████████████████████████████████████████| 20/20 [02:25<00:00,  7.27s/it]\n",
            "Round 8 training accuracy: 0.66668\n",
            "Round 8 testing accuracy: 0.6077\n",
            "Round 9\n",
            "100%|███████████████████████████████████████████████████████████████| 20/20 [02:33<00:00,  7.70s/it]\n",
            "Round 9 training accuracy: 0.71812\n",
            "Round 9 testing accuracy: 0.6455\n",
            "Round 10\n",
            "100%|███████████████████████████████████████████████████████████████| 20/20 [02:50<00:00,  8.52s/it]\n",
            "Round 10 training accuracy: 0.71924\n",
            "Round 10 testing accuracy: 0.6538\n"
          ]
        }
      ]
    },
    {
      "cell_type": "code",
      "source": [
        "!python /content/deep-active-learning/demo.py  --dataset_name \"CIFAR10\" --strategy_name 'EntropySampling'"
      ],
      "metadata": {
        "id": "vSaioOhml1Eo",
        "colab": {
          "base_uri": "https://localhost:8080/"
        },
        "outputId": "359247f5-865d-43b7-92ef-a170fb630af6"
      },
      "execution_count": null,
      "outputs": [
        {
          "output_type": "stream",
          "name": "stdout",
          "text": [
            "{'dataset_name': 'CIFAR10',\n",
            " 'n_init_labeled': 10000,\n",
            " 'n_query': 1000,\n",
            " 'n_round': 10,\n",
            " 'seed': 1,\n",
            " 'strategy_name': 'EntropySampling'}\n",
            "\n",
            "Files already downloaded and verified\n",
            "Files already downloaded and verified\n",
            "Train size: 50000 , Test size: 10000\n",
            "number of labeled pool: 10000\n",
            "number of unlabeled pool: 40000\n",
            "number of testing pool: 10000\n",
            "\n",
            "Round 0\n",
            "100%|███████████████████████████████████████████████████████████████| 20/20 [01:30<00:00,  4.50s/it]\n",
            "Round 0 trainig accuracy: 0.59434\n",
            "Round 0 testing accuracy: 0.5499\n",
            "Round 1\n",
            "100%|███████████████████████████████████████████████████████████████| 20/20 [01:31<00:00,  4.56s/it]\n",
            "Round 1 training accuracy: 0.63936\n",
            "Round 1 testing accuracy: 0.5918\n",
            "Round 2\n",
            "100%|███████████████████████████████████████████████████████████████| 20/20 [01:38<00:00,  4.93s/it]\n",
            "Round 2 training accuracy: 0.63484\n",
            "Round 2 testing accuracy: 0.5845\n",
            "Round 3\n",
            "100%|███████████████████████████████████████████████████████████████| 20/20 [01:48<00:00,  5.42s/it]\n",
            "Round 3 training accuracy: 0.58748\n",
            "Round 3 testing accuracy: 0.5495\n",
            "Round 4\n",
            "100%|███████████████████████████████████████████████████████████████| 20/20 [01:54<00:00,  5.73s/it]\n",
            "Round 4 training accuracy: 0.66602\n",
            "Round 4 testing accuracy: 0.6007\n",
            "Round 5\n",
            "100%|███████████████████████████████████████████████████████████████| 20/20 [02:04<00:00,  6.24s/it]\n",
            "Round 5 training accuracy: 0.65604\n",
            "Round 5 testing accuracy: 0.599\n",
            "Round 6\n",
            "100%|███████████████████████████████████████████████████████████████| 20/20 [02:12<00:00,  6.65s/it]\n",
            "Round 6 training accuracy: 0.6853\n",
            "Round 6 testing accuracy: 0.6186\n",
            "Round 7\n",
            "100%|███████████████████████████████████████████████████████████████| 20/20 [02:19<00:00,  6.97s/it]\n",
            "Round 7 training accuracy: 0.70128\n",
            "Round 7 testing accuracy: 0.6233\n",
            "Round 8\n",
            "100%|███████████████████████████████████████████████████████████████| 20/20 [02:27<00:00,  7.38s/it]\n",
            "Round 8 training accuracy: 0.6283\n",
            "Round 8 testing accuracy: 0.5775\n",
            "Round 9\n",
            "100%|███████████████████████████████████████████████████████████████| 20/20 [02:37<00:00,  7.86s/it]\n",
            "Round 9 training accuracy: 0.71886\n",
            "Round 9 testing accuracy: 0.6409\n",
            "Round 10\n",
            "100%|███████████████████████████████████████████████████████████████| 20/20 [02:43<00:00,  8.17s/it]\n",
            "Round 10 training accuracy: 0.72396\n",
            "Round 10 testing accuracy: 0.6361\n"
          ]
        }
      ]
    },
    {
      "cell_type": "code",
      "source": [
        "!python /content/deep-active-learning/demo.py  --dataset_name \"CIFAR10\" --strategy_name \"BALDDropout\""
      ],
      "metadata": {
        "id": "rM9UzD1Cl1CU",
        "colab": {
          "base_uri": "https://localhost:8080/"
        },
        "outputId": "f8f078ab-74ef-4b02-abaa-39e5e35f8a57"
      },
      "execution_count": null,
      "outputs": [
        {
          "output_type": "stream",
          "name": "stdout",
          "text": [
            "{'dataset_name': 'CIFAR10',\n",
            " 'n_init_labeled': 10000,\n",
            " 'n_query': 1000,\n",
            " 'n_round': 10,\n",
            " 'seed': 1,\n",
            " 'strategy_name': 'BALDDropout'}\n",
            "\n",
            "Files already downloaded and verified\n",
            "Files already downloaded and verified\n",
            "Train size: 50000 , Test size: 10000\n",
            "number of labeled pool: 10000\n",
            "number of unlabeled pool: 40000\n",
            "number of testing pool: 10000\n",
            "\n",
            "Round 0\n",
            "100%|███████████████████████████████████████████████████████████████| 20/20 [01:22<00:00,  4.12s/it]\n",
            "Round 0 trainig accuracy: 0.59434\n",
            "Round 0 testing accuracy: 0.5499\n",
            "Round 1\n",
            "100%|███████████████████████████████████████████████████████████████| 20/20 [01:30<00:00,  4.53s/it]\n",
            "Round 1 training accuracy: 0.63664\n",
            "Round 1 testing accuracy: 0.5862\n",
            "Round 2\n",
            "100%|███████████████████████████████████████████████████████████████| 20/20 [01:37<00:00,  4.86s/it]\n",
            "Round 2 training accuracy: 0.63496\n",
            "Round 2 testing accuracy: 0.581\n",
            "Round 3\n",
            "100%|███████████████████████████████████████████████████████████████| 20/20 [01:44<00:00,  5.24s/it]\n",
            "Round 3 training accuracy: 0.63522\n",
            "Round 3 testing accuracy: 0.5753\n",
            "Round 4\n",
            "100%|███████████████████████████████████████████████████████████████| 20/20 [01:54<00:00,  5.71s/it]\n",
            "Round 4 training accuracy: 0.67758\n",
            "Round 4 testing accuracy: 0.6134\n",
            "Round 5\n",
            "100%|███████████████████████████████████████████████████████████████| 20/20 [02:05<00:00,  6.27s/it]\n",
            "Round 5 training accuracy: 0.63958\n",
            "Round 5 testing accuracy: 0.5874\n",
            "Round 6\n",
            "100%|███████████████████████████████████████████████████████████████| 20/20 [02:13<00:00,  6.66s/it]\n",
            "Round 6 training accuracy: 0.69592\n",
            "Round 6 testing accuracy: 0.6272\n",
            "Round 7\n",
            "100%|███████████████████████████████████████████████████████████████| 20/20 [02:21<00:00,  7.10s/it]\n",
            "Round 7 training accuracy: 0.69882\n",
            "Round 7 testing accuracy: 0.623\n",
            "Round 8\n",
            "100%|███████████████████████████████████████████████████████████████| 20/20 [02:31<00:00,  7.56s/it]\n",
            "Round 8 training accuracy: 0.65328\n",
            "Round 8 testing accuracy: 0.5911\n",
            "Round 9\n",
            "100%|███████████████████████████████████████████████████████████████| 20/20 [02:36<00:00,  7.85s/it]\n",
            "Round 9 training accuracy: 0.71526\n",
            "Round 9 testing accuracy: 0.6336\n",
            "Round 10\n",
            "100%|███████████████████████████████████████████████████████████████| 20/20 [02:46<00:00,  8.30s/it]\n",
            "Round 10 training accuracy: 0.7182\n",
            "Round 10 testing accuracy: 0.6375\n"
          ]
        }
      ]
    },
    {
      "cell_type": "code",
      "source": [
        "!python /content/deep-active-learning/demo.py  --dataset_name \"CIFAR10\" --strategy_name \"LeastConfidence\""
      ],
      "metadata": {
        "id": "nU652DAUl0_1",
        "colab": {
          "base_uri": "https://localhost:8080/"
        },
        "outputId": "53207650-844c-475e-97f7-40a7cf175921"
      },
      "execution_count": null,
      "outputs": [
        {
          "output_type": "stream",
          "name": "stdout",
          "text": [
            "{'dataset_name': 'CIFAR10',\n",
            " 'n_init_labeled': 10000,\n",
            " 'n_query': 1000,\n",
            " 'n_round': 10,\n",
            " 'seed': 1,\n",
            " 'strategy_name': 'LeastConfidence'}\n",
            "\n",
            "Files already downloaded and verified\n",
            "Files already downloaded and verified\n",
            "Train size: 50000 , Test size: 10000\n",
            "number of labeled pool: 10000\n",
            "number of unlabeled pool: 40000\n",
            "number of testing pool: 10000\n",
            "\n",
            "Round 0\n",
            "100%|███████████████████████████████████████████████████████████████| 20/20 [01:24<00:00,  4.25s/it]\n",
            "Round 0 trainig accuracy: 0.59434\n",
            "Round 0 testing accuracy: 0.5499\n",
            "Round 1\n",
            "100%|███████████████████████████████████████████████████████████████| 20/20 [01:33<00:00,  4.67s/it]\n",
            "Round 1 training accuracy: 0.63382\n",
            "Round 1 testing accuracy: 0.5909\n",
            "Round 2\n",
            "100%|███████████████████████████████████████████████████████████████| 20/20 [01:39<00:00,  4.98s/it]\n",
            "Round 2 training accuracy: 0.64988\n",
            "Round 2 testing accuracy: 0.5958\n",
            "Round 3\n",
            "100%|███████████████████████████████████████████████████████████████| 20/20 [01:48<00:00,  5.41s/it]\n",
            "Round 3 training accuracy: 0.62428\n",
            "Round 3 testing accuracy: 0.5683\n",
            "Round 4\n",
            "100%|███████████████████████████████████████████████████████████████| 20/20 [01:55<00:00,  5.77s/it]\n",
            "Round 4 training accuracy: 0.64186\n",
            "Round 4 testing accuracy: 0.5945\n",
            "Round 5\n",
            "100%|███████████████████████████████████████████████████████████████| 20/20 [02:05<00:00,  6.26s/it]\n",
            "Round 5 training accuracy: 0.65604\n",
            "Round 5 testing accuracy: 0.5963\n",
            "Round 6\n",
            "100%|███████████████████████████████████████████████████████████████| 20/20 [02:13<00:00,  6.68s/it]\n",
            "Round 6 training accuracy: 0.69796\n",
            "Round 6 testing accuracy: 0.6341\n",
            "Round 7\n",
            "100%|███████████████████████████████████████████████████████████████| 20/20 [02:18<00:00,  6.92s/it]\n",
            "Round 7 training accuracy: 0.6823\n",
            "Round 7 testing accuracy: 0.6138\n",
            "Round 8\n",
            "100%|███████████████████████████████████████████████████████████████| 20/20 [02:26<00:00,  7.34s/it]\n",
            "Round 8 training accuracy: 0.67398\n",
            "Round 8 testing accuracy: 0.6117\n",
            "Round 9\n",
            "100%|███████████████████████████████████████████████████████████████| 20/20 [02:36<00:00,  7.81s/it]\n",
            "Round 9 training accuracy: 0.6977\n",
            "Round 9 testing accuracy: 0.62\n",
            "Round 10\n",
            "100%|███████████████████████████████████████████████████████████████| 20/20 [02:46<00:00,  8.31s/it]\n",
            "Round 10 training accuracy: 0.69668\n",
            "Round 10 testing accuracy: 0.6223\n"
          ]
        }
      ]
    },
    {
      "cell_type": "code",
      "source": [
        "!python /content/deep-active-learning/demo.py  --dataset_name \"CIFAR10\" --strategy_name \"MarginSampling\""
      ],
      "metadata": {
        "id": "LUjnzZyVl09T",
        "colab": {
          "base_uri": "https://localhost:8080/"
        },
        "outputId": "e235053a-ef01-4eeb-b19b-58e0c4f3987b"
      },
      "execution_count": null,
      "outputs": [
        {
          "output_type": "stream",
          "name": "stdout",
          "text": [
            "{'dataset_name': 'CIFAR10',\n",
            " 'n_init_labeled': 10000,\n",
            " 'n_query': 1000,\n",
            " 'n_round': 10,\n",
            " 'seed': 1,\n",
            " 'strategy_name': 'MarginSampling'}\n",
            "\n",
            "Files already downloaded and verified\n",
            "Files already downloaded and verified\n",
            "Train size: 50000 , Test size: 10000\n",
            "number of labeled pool: 10000\n",
            "number of unlabeled pool: 40000\n",
            "number of testing pool: 10000\n",
            "\n",
            "Round 0\n",
            "100%|███████████████████████████████████████████████████████████████| 20/20 [01:21<00:00,  4.08s/it]\n",
            "Round 0 trainig accuracy: 0.59434\n",
            "Round 0 testing accuracy: 0.5499\n",
            "Round 1\n",
            "100%|███████████████████████████████████████████████████████████████| 20/20 [01:30<00:00,  4.51s/it]\n",
            "Round 1 training accuracy: 0.63318\n",
            "Round 1 testing accuracy: 0.5899\n",
            "Round 2\n",
            "100%|███████████████████████████████████████████████████████████████| 20/20 [01:38<00:00,  4.92s/it]\n",
            "Round 2 training accuracy: 0.63244\n",
            "Round 2 testing accuracy: 0.5892\n",
            "Round 3\n",
            "100%|███████████████████████████████████████████████████████████████| 20/20 [01:46<00:00,  5.32s/it]\n",
            "Round 3 training accuracy: 0.64122\n",
            "Round 3 testing accuracy: 0.5941\n",
            "Round 4\n",
            "100%|███████████████████████████████████████████████████████████████| 20/20 [01:55<00:00,  5.76s/it]\n",
            "Round 4 training accuracy: 0.67854\n",
            "Round 4 testing accuracy: 0.6164\n",
            "Round 5\n",
            "100%|███████████████████████████████████████████████████████████████| 20/20 [02:01<00:00,  6.08s/it]\n",
            "Round 5 training accuracy: 0.66368\n",
            "Round 5 testing accuracy: 0.6081\n",
            "Round 6\n",
            "100%|███████████████████████████████████████████████████████████████| 20/20 [02:09<00:00,  6.48s/it]\n",
            "Round 6 training accuracy: 0.69538\n",
            "Round 6 testing accuracy: 0.6286\n",
            "Round 7\n",
            "100%|███████████████████████████████████████████████████████████████| 20/20 [02:17<00:00,  6.87s/it]\n",
            "Round 7 training accuracy: 0.67266\n",
            "Round 7 testing accuracy: 0.6136\n",
            "Round 8\n",
            "100%|███████████████████████████████████████████████████████████████| 20/20 [02:26<00:00,  7.32s/it]\n",
            "Round 8 training accuracy: 0.68638\n",
            "Round 8 testing accuracy: 0.6205\n",
            "Round 9\n",
            "100%|███████████████████████████████████████████████████████████████| 20/20 [02:33<00:00,  7.68s/it]\n",
            "Round 9 training accuracy: 0.71036\n",
            "Round 9 testing accuracy: 0.6346\n",
            "Round 10\n",
            "100%|███████████████████████████████████████████████████████████████| 20/20 [02:41<00:00,  8.07s/it]\n",
            "Round 10 training accuracy: 0.69514\n",
            "Round 10 testing accuracy: 0.6173\n"
          ]
        }
      ]
    },
    {
      "cell_type": "code",
      "source": [],
      "metadata": {
        "id": "SquCuq6el06z"
      },
      "execution_count": null,
      "outputs": []
    }
  ],
  "metadata": {
    "kernelspec": {
      "display_name": "Python 3",
      "language": "python",
      "name": "python3"
    },
    "language_info": {
      "codemirror_mode": {
        "name": "ipython",
        "version": 3
      },
      "file_extension": ".py",
      "mimetype": "text/x-python",
      "name": "python",
      "nbconvert_exporter": "python",
      "pygments_lexer": "ipython3",
      "version": "3.11.0"
    },
    "orig_nbformat": 4,
    "colab": {
      "provenance": []
    },
    "accelerator": "GPU",
    "gpuClass": "standard"
  },
  "nbformat": 4,
  "nbformat_minor": 0
}