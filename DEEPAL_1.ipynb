{
  "nbformat": 4,
  "nbformat_minor": 0,
  "metadata": {
    "colab": {
      "provenance": []
    },
    "kernelspec": {
      "name": "python3",
      "display_name": "Python 3"
    },
    "language_info": {
      "name": "python"
    },
    "accelerator": "GPU",
    "gpuClass": "standard"
  },
  "cells": [
    {
      "cell_type": "code",
      "source": [
        "!git clone https://github.com/ej0cl6/deep-active-learning\n"
      ],
      "metadata": {
        "colab": {
          "base_uri": "https://localhost:8080/"
        },
        "id": "MBE8d12nRCrs",
        "outputId": "77a41834-29fb-4420-fc9e-11e1f21ad774"
      },
      "execution_count": 1,
      "outputs": [
        {
          "output_type": "stream",
          "name": "stdout",
          "text": [
            "Cloning into 'deep-active-learning'...\n",
            "remote: Enumerating objects: 232, done.\u001b[K\n",
            "remote: Total 232 (delta 0), reused 0 (delta 0), pack-reused 232\u001b[K\n",
            "Receiving objects: 100% (232/232), 44.12 KiB | 4.41 MiB/s, done.\n",
            "Resolving deltas: 100% (141/141), done.\n"
          ]
        }
      ]
    },
    {
      "cell_type": "code",
      "source": [
        "%cd deep-active-learning\n"
      ],
      "metadata": {
        "colab": {
          "base_uri": "https://localhost:8080/"
        },
        "id": "fQ15znxbWyGq",
        "outputId": "48d78061-a41a-447f-95aa-fd235f04825d"
      },
      "execution_count": 2,
      "outputs": [
        {
          "output_type": "stream",
          "name": "stdout",
          "text": [
            "/content/deep-active-learning\n"
          ]
        }
      ]
    },
    {
      "cell_type": "code",
      "source": [
        "! ls"
      ],
      "metadata": {
        "colab": {
          "base_uri": "https://localhost:8080/"
        },
        "id": "-F_PRAckXfXq",
        "outputId": "f56672e8-9d85-4592-dc43-576de7910e08"
      },
      "execution_count": null,
      "outputs": [
        {
          "output_type": "stream",
          "name": "stdout",
          "text": [
            "data.py  environment.yml  LICENSE  query_strategies  utils.py\n",
            "demo.py  handlers.py\t  nets.py  README.md\n"
          ]
        }
      ]
    },
    {
      "cell_type": "code",
      "source": [
        "!python /content/deep-active-learning/demo.py \n",
        "\n"
      ],
      "metadata": {
        "colab": {
          "base_uri": "https://localhost:8080/"
        },
        "id": "aY0mGDJmomtp",
        "outputId": "21805a5e-c58a-49c9-bcfe-68f7202b72c0"
      },
      "execution_count": null,
      "outputs": [
        {
          "output_type": "stream",
          "name": "stdout",
          "text": [
            "{'dataset_name': 'MNIST',\n",
            " 'n_init_labeled': 10000,\n",
            " 'n_query': 1000,\n",
            " 'n_round': 10,\n",
            " 'seed': 1,\n",
            " 'strategy_name': 'RandomSampling'}\n",
            "\n",
            "Train size: 60000 , Test size: 10000\n",
            "number of labeled pool: 10000\n",
            "number of unlabeled pool: 50000\n",
            "number of testing pool: 10000\n",
            "\n",
            "Round 0\n",
            "100%|███████████████████████████████████████████████████████████████| 10/10 [00:33<00:00,  3.37s/it]\n",
            "Round 0 trainig accuracy: 0.9541\n",
            "Round 0 testing accuracy: 0.9562\n",
            "Round 1\n",
            "100%|███████████████████████████████████████████████████████████████| 10/10 [00:36<00:00,  3.62s/it]\n",
            "Round 1 training accuracy: 0.9532166666666667\n",
            "Round 1 testing accuracy: 0.9564\n",
            "Round 2\n",
            "100%|███████████████████████████████████████████████████████████████| 10/10 [00:40<00:00,  4.02s/it]\n",
            "Round 2 training accuracy: 0.95895\n",
            "Round 2 testing accuracy: 0.9601\n",
            "Round 3\n",
            "100%|███████████████████████████████████████████████████████████████| 10/10 [00:43<00:00,  4.37s/it]\n",
            "Round 3 training accuracy: 0.9584833333333334\n",
            "Round 3 testing accuracy: 0.9617\n",
            "Round 4\n",
            "100%|███████████████████████████████████████████████████████████████| 10/10 [00:47<00:00,  4.73s/it]\n",
            "Round 4 training accuracy: 0.9615\n",
            "Round 4 testing accuracy: 0.9668\n",
            "Round 5\n",
            "100%|███████████████████████████████████████████████████████████████| 10/10 [00:50<00:00,  5.07s/it]\n",
            "Round 5 training accuracy: 0.9646666666666667\n",
            "Round 5 testing accuracy: 0.965\n",
            "Round 6\n",
            "100%|███████████████████████████████████████████████████████████████| 10/10 [00:53<00:00,  5.35s/it]\n",
            "Round 6 training accuracy: 0.9654333333333334\n",
            "Round 6 testing accuracy: 0.9686\n",
            "Round 7\n",
            "100%|███████████████████████████████████████████████████████████████| 10/10 [00:57<00:00,  5.74s/it]\n",
            "Round 7 training accuracy: 0.9706166666666667\n",
            "Round 7 testing accuracy: 0.9728\n",
            "Round 8\n",
            "100%|███████████████████████████████████████████████████████████████| 10/10 [00:59<00:00,  5.94s/it]\n",
            "Round 8 training accuracy: 0.9647333333333333\n",
            "Round 8 testing accuracy: 0.9663\n",
            "Round 9\n",
            "100%|███████████████████████████████████████████████████████████████| 10/10 [01:03<00:00,  6.35s/it]\n",
            "Round 9 training accuracy: 0.9683333333333334\n",
            "Round 9 testing accuracy: 0.9719\n",
            "Round 10\n",
            "100%|███████████████████████████████████████████████████████████████| 10/10 [01:06<00:00,  6.68s/it]\n",
            "Round 10 training accuracy: 0.9703333333333334\n",
            "Round 10 testing accuracy: 0.9716\n"
          ]
        }
      ]
    },
    {
      "cell_type": "code",
      "source": [
        "!python /content/deep-active-learning/demo.py  --seed 1 --n_init_labeled 5000 --n_query 1000 --n_round 10 --dataset_name 'MNIST' --strategy_name 'EntropySampling'\n"
      ],
      "metadata": {
        "colab": {
          "base_uri": "https://localhost:8080/"
        },
        "id": "EGcqaEbruAvS",
        "outputId": "f7803034-dc57-484b-c688-b6fac118298a"
      },
      "execution_count": null,
      "outputs": [
        {
          "output_type": "stream",
          "name": "stdout",
          "text": [
            "{'dataset_name': 'MNIST',\n",
            " 'n_init_labeled': 5000,\n",
            " 'n_query': 1000,\n",
            " 'n_round': 10,\n",
            " 'seed': 1,\n",
            " 'strategy_name': 'EntropySampling'}\n",
            "\n",
            "Train size: 60000 , Test size: 10000\n",
            "number of labeled pool: 5000\n",
            "number of unlabeled pool: 55000\n",
            "number of testing pool: 10000\n",
            "\n",
            "Round 0\n",
            "100%|███████████████████████████████████████████████████████████████| 10/10 [00:17<00:00,  1.80s/it]\n",
            "Round 0 trainig accuracy: 0.9285833333333333\n",
            "Round 0 testing accuracy: 0.934\n",
            "Round 1\n",
            "100%|███████████████████████████████████████████████████████████████| 10/10 [00:21<00:00,  2.11s/it]\n",
            "Round 1 training accuracy: 0.9487\n",
            "Round 1 testing accuracy: 0.9523\n",
            "Round 2\n",
            "100%|███████████████████████████████████████████████████████████████| 10/10 [00:23<00:00,  2.34s/it]\n",
            "Round 2 training accuracy: 0.9565666666666667\n",
            "Round 2 testing accuracy: 0.9607\n",
            "Round 3\n",
            "100%|███████████████████████████████████████████████████████████████| 10/10 [00:26<00:00,  2.69s/it]\n",
            "Round 3 training accuracy: 0.9692166666666666\n",
            "Round 3 testing accuracy: 0.9708\n",
            "Round 4\n",
            "100%|███████████████████████████████████████████████████████████████| 10/10 [00:30<00:00,  3.05s/it]\n",
            "Round 4 training accuracy: 0.9540166666666666\n",
            "Round 4 testing accuracy: 0.953\n",
            "Round 5\n",
            "100%|███████████████████████████████████████████████████████████████| 10/10 [00:32<00:00,  3.28s/it]\n",
            "Round 5 training accuracy: 0.9712833333333334\n",
            "Round 5 testing accuracy: 0.97\n",
            "Round 6\n",
            "100%|███████████████████████████████████████████████████████████████| 10/10 [00:36<00:00,  3.65s/it]\n",
            "Round 6 training accuracy: 0.9748166666666667\n",
            "Round 6 testing accuracy: 0.9753\n",
            "Round 7\n",
            "100%|███████████████████████████████████████████████████████████████| 10/10 [00:39<00:00,  3.94s/it]\n",
            "Round 7 training accuracy: 0.9764333333333334\n",
            "Round 7 testing accuracy: 0.9765\n",
            "Round 8\n",
            "100%|███████████████████████████████████████████████████████████████| 10/10 [00:43<00:00,  4.31s/it]\n",
            "Round 8 training accuracy: 0.9796333333333334\n",
            "Round 8 testing accuracy: 0.9806\n",
            "Round 9\n",
            "100%|███████████████████████████████████████████████████████████████| 10/10 [00:46<00:00,  4.63s/it]\n",
            "Round 9 training accuracy: 0.979\n",
            "Round 9 testing accuracy: 0.9802\n",
            "Round 10\n",
            "100%|███████████████████████████████████████████████████████████████| 10/10 [00:49<00:00,  4.93s/it]\n",
            "Round 10 training accuracy: 0.9809833333333333\n",
            "Round 10 testing accuracy: 0.9825\n"
          ]
        }
      ]
    },
    {
      "cell_type": "code",
      "source": [
        "!python /content/deep-active-learning/demo.py  --seed 1 --n_init_labeled 5000 --n_query 1000 --n_round 10 --dataset_name 'MNIST' --strategy_name 'BALDDropout'\n"
      ],
      "metadata": {
        "id": "nCVzkBgSRCh_",
        "colab": {
          "base_uri": "https://localhost:8080/"
        },
        "outputId": "4cf6958c-641e-4c6a-bf9e-ea7c5d93aec2"
      },
      "execution_count": null,
      "outputs": [
        {
          "output_type": "stream",
          "name": "stdout",
          "text": [
            "{'dataset_name': 'MNIST',\n",
            " 'n_init_labeled': 5000,\n",
            " 'n_query': 1000,\n",
            " 'n_round': 10,\n",
            " 'seed': 1,\n",
            " 'strategy_name': 'BALDDropout'}\n",
            "\n",
            "Train size: 60000 , Test size: 10000\n",
            "number of labeled pool: 5000\n",
            "number of unlabeled pool: 55000\n",
            "number of testing pool: 10000\n",
            "\n",
            "Round 0\n",
            "100%|███████████████████████████████████████████████████████████████| 10/10 [00:17<00:00,  1.74s/it]\n",
            "Round 0 trainig accuracy: 0.9285833333333333\n",
            "Round 0 testing accuracy: 0.934\n",
            "Round 1\n",
            "100%|███████████████████████████████████████████████████████████████| 10/10 [00:20<00:00,  2.06s/it]\n",
            "Round 1 training accuracy: 0.9461\n",
            "Round 1 testing accuracy: 0.9477\n",
            "Round 2\n",
            "100%|███████████████████████████████████████████████████████████████| 10/10 [00:24<00:00,  2.43s/it]\n",
            "Round 2 training accuracy: 0.9534\n",
            "Round 2 testing accuracy: 0.9557\n",
            "Round 3\n",
            "100%|███████████████████████████████████████████████████████████████| 10/10 [00:26<00:00,  2.64s/it]\n",
            "Round 3 training accuracy: 0.9668\n",
            "Round 3 testing accuracy: 0.9687\n",
            "Round 4\n",
            "100%|███████████████████████████████████████████████████████████████| 10/10 [00:30<00:00,  3.01s/it]\n",
            "Round 4 training accuracy: 0.9666166666666667\n",
            "Round 4 testing accuracy: 0.969\n",
            "Round 5\n",
            "100%|███████████████████████████████████████████████████████████████| 10/10 [00:33<00:00,  3.31s/it]\n",
            "Round 5 training accuracy: 0.9727\n",
            "Round 5 testing accuracy: 0.9751\n",
            "Round 6\n",
            "100%|███████████████████████████████████████████████████████████████| 10/10 [00:36<00:00,  3.68s/it]\n",
            "Round 6 training accuracy: 0.9690833333333333\n",
            "Round 6 testing accuracy: 0.9709\n",
            "Round 7\n",
            "100%|███████████████████████████████████████████████████████████████| 10/10 [00:39<00:00,  3.92s/it]\n",
            "Round 7 training accuracy: 0.974\n",
            "Round 7 testing accuracy: 0.974\n",
            "Round 8\n",
            "100%|███████████████████████████████████████████████████████████████| 10/10 [00:43<00:00,  4.32s/it]\n",
            "Round 8 training accuracy: 0.9748166666666667\n",
            "Round 8 testing accuracy: 0.976\n",
            "Round 9\n",
            "100%|███████████████████████████████████████████████████████████████| 10/10 [00:46<00:00,  4.64s/it]\n",
            "Round 9 training accuracy: 0.976\n",
            "Round 9 testing accuracy: 0.9776\n",
            "Round 10\n",
            "100%|███████████████████████████████████████████████████████████████| 10/10 [00:49<00:00,  4.93s/it]\n",
            "Round 10 training accuracy: 0.97665\n",
            "Round 10 testing accuracy: 0.9778\n"
          ]
        }
      ]
    },
    {
      "cell_type": "code",
      "source": [
        "!python /content/deep-active-learning/demo.py  --seed 1 --n_init_labeled 5000 --n_query 1000 --n_round 10 --dataset_name 'MNIST' --strategy_name 'LeastConfidence'\n"
      ],
      "metadata": {
        "id": "-_Z6sziyRCe7",
        "colab": {
          "base_uri": "https://localhost:8080/"
        },
        "outputId": "0d3bd01b-f809-4154-c4ee-6c17e032663c"
      },
      "execution_count": null,
      "outputs": [
        {
          "output_type": "stream",
          "name": "stdout",
          "text": [
            "{'dataset_name': 'MNIST',\n",
            " 'n_init_labeled': 5000,\n",
            " 'n_query': 1000,\n",
            " 'n_round': 10,\n",
            " 'seed': 1,\n",
            " 'strategy_name': 'LeastConfidence'}\n",
            "\n",
            "Train size: 60000 , Test size: 10000\n",
            "number of labeled pool: 5000\n",
            "number of unlabeled pool: 55000\n",
            "number of testing pool: 10000\n",
            "\n",
            "Round 0\n",
            "100%|███████████████████████████████████████████████████████████████| 10/10 [00:18<00:00,  1.82s/it]\n",
            "Round 0 trainig accuracy: 0.9285833333333333\n",
            "Round 0 testing accuracy: 0.934\n",
            "Round 1\n",
            "100%|███████████████████████████████████████████████████████████████| 10/10 [00:20<00:00,  2.07s/it]\n",
            "Round 1 training accuracy: 0.9506333333333333\n",
            "Round 1 testing accuracy: 0.9539\n",
            "Round 2\n",
            "100%|███████████████████████████████████████████████████████████████| 10/10 [00:23<00:00,  2.40s/it]\n",
            "Round 2 training accuracy: 0.9601333333333333\n",
            "Round 2 testing accuracy: 0.961\n",
            "Round 3\n",
            "100%|███████████████████████████████████████████████████████████████| 10/10 [00:26<00:00,  2.69s/it]\n",
            "Round 3 training accuracy: 0.96835\n",
            "Round 3 testing accuracy: 0.9693\n",
            "Round 4\n",
            "100%|███████████████████████████████████████████████████████████████| 10/10 [00:30<00:00,  3.06s/it]\n",
            "Round 4 training accuracy: 0.9643166666666667\n",
            "Round 4 testing accuracy: 0.9651\n",
            "Round 5\n",
            "100%|███████████████████████████████████████████████████████████████| 10/10 [00:34<00:00,  3.43s/it]\n",
            "Round 5 training accuracy: 0.97295\n",
            "Round 5 testing accuracy: 0.9739\n",
            "Round 6\n",
            "100%|███████████████████████████████████████████████████████████████| 10/10 [00:36<00:00,  3.69s/it]\n",
            "Round 6 training accuracy: 0.9763\n",
            "Round 6 testing accuracy: 0.9767\n",
            "Round 7\n",
            "100%|███████████████████████████████████████████████████████████████| 10/10 [00:40<00:00,  4.09s/it]\n",
            "Round 7 training accuracy: 0.9794833333333334\n",
            "Round 7 testing accuracy: 0.9797\n",
            "Round 8\n",
            "100%|███████████████████████████████████████████████████████████████| 10/10 [00:43<00:00,  4.36s/it]\n",
            "Round 8 training accuracy: 0.9787833333333333\n",
            "Round 8 testing accuracy: 0.9802\n",
            "Round 9\n",
            "100%|███████████████████████████████████████████████████████████████| 10/10 [00:47<00:00,  4.72s/it]\n",
            "Round 9 training accuracy: 0.97975\n",
            "Round 9 testing accuracy: 0.9799\n",
            "Round 10\n",
            "100%|███████████████████████████████████████████████████████████████| 10/10 [00:52<00:00,  5.27s/it]\n",
            "Round 10 training accuracy: 0.9797333333333333\n",
            "Round 10 testing accuracy: 0.9811\n"
          ]
        }
      ]
    },
    {
      "cell_type": "code",
      "source": [
        "!python /content/deep-active-learning/demo.py  --seed 1 --n_init_labeled 5000 --n_query 1000 --n_round 10 --dataset_name 'SVHN' --strategy_name 'LeastConfidence'\n"
      ],
      "metadata": {
        "colab": {
          "base_uri": "https://localhost:8080/"
        },
        "id": "6hIrpwkmH7y9",
        "outputId": "dcff5063-99bb-43f0-b6cb-5303e3f337af"
      },
      "execution_count": 3,
      "outputs": [
        {
          "output_type": "stream",
          "name": "stdout",
          "text": [
            "{'dataset_name': 'SVHN',\n",
            " 'n_init_labeled': 5000,\n",
            " 'n_query': 1000,\n",
            " 'n_round': 10,\n",
            " 'seed': 1,\n",
            " 'strategy_name': 'LeastConfidence'}\n",
            "\n",
            "Downloading http://ufldl.stanford.edu/housenumbers/train_32x32.mat to ./data/SVHN/train_32x32.mat\n",
            "100% 182040794/182040794 [00:03<00:00, 53828988.22it/s]\n",
            "Downloading http://ufldl.stanford.edu/housenumbers/test_32x32.mat to ./data/SVHN/test_32x32.mat\n",
            "100% 64275384/64275384 [00:01<00:00, 36460514.17it/s]\n",
            "Train size: 73257 , Test size: 26032\n",
            "number of labeled pool: 5000\n",
            "number of unlabeled pool: 65000\n",
            "number of testing pool: 26032\n",
            "\n",
            "Round 0\n",
            "100%|███████████████████████████████████████████████████████████████| 20/20 [00:48<00:00,  2.42s/it]\n",
            "Round 0 trainig accuracy: 0.18958571428571427\n",
            "Round 0 testing accuracy: 0.19598955132145052\n",
            "Round 1\n",
            "100%|███████████████████████████████████████████████████████████████| 20/20 [00:53<00:00,  2.70s/it]\n",
            "Round 1 training accuracy: 0.18954285714285715\n",
            "Round 1 testing accuracy: 0.19591272280270436\n",
            "Round 2\n",
            "100%|███████████████████████████████████████████████████████████████| 20/20 [01:02<00:00,  3.11s/it]\n",
            "Round 2 training accuracy: 0.19587142857142859\n",
            "Round 2 testing accuracy: 0.20090657652120467\n",
            "Round 3\n",
            "100%|███████████████████████████████████████████████████████████████| 20/20 [01:09<00:00,  3.50s/it]\n",
            "Round 3 training accuracy: 0.5865571428571429\n",
            "Round 3 testing accuracy: 0.6008758451137062\n",
            "Round 4\n",
            "100%|███████████████████████████████████████████████████████████████| 20/20 [01:18<00:00,  3.95s/it]\n",
            "Round 4 training accuracy: 0.5326857142857143\n",
            "Round 4 testing accuracy: 0.5434465273509527\n",
            "Round 5\n",
            "100%|███████████████████████████████████████████████████████████████| 20/20 [01:25<00:00,  4.30s/it]\n",
            "Round 5 training accuracy: 0.6934571428571429\n",
            "Round 5 testing accuracy: 0.6772049784880148\n",
            "Round 6\n",
            "100%|███████████████████████████████████████████████████████████████| 20/20 [01:34<00:00,  4.71s/it]\n",
            "Round 6 training accuracy: 0.4221714285714286\n",
            "Round 6 testing accuracy: 0.4340043023970498\n",
            "Round 7\n",
            "100%|███████████████████████████████████████████████████████████████| 20/20 [01:42<00:00,  5.15s/it]\n",
            "Round 7 training accuracy: 0.7598428571428572\n",
            "Round 7 testing accuracy: 0.7486555009219422\n",
            "Round 8\n",
            "100%|███████████████████████████████████████████████████████████████| 20/20 [01:51<00:00,  5.57s/it]\n",
            "Round 8 training accuracy: 0.34587142857142855\n",
            "Round 8 testing accuracy: 0.35122157344806393\n",
            "Round 9\n",
            "100%|███████████████████████████████████████████████████████████████| 20/20 [02:00<00:00,  6.04s/it]\n",
            "Round 9 training accuracy: 0.6498571428571429\n",
            "Round 9 testing accuracy: 0.6481637984019668\n",
            "Round 10\n",
            "100%|███████████████████████████████████████████████████████████████| 20/20 [02:08<00:00,  6.41s/it]\n",
            "Round 10 training accuracy: 0.7499428571428571\n",
            "Round 10 testing accuracy: 0.7236094038106945\n"
          ]
        }
      ]
    },
    {
      "cell_type": "code",
      "source": [
        "!python /content/deep-active-learning/demo.py  --seed 1 --n_init_labeled 5000 --n_query 10000 --n_round 10 --dataset_name 'SVHN' --strategy_name 'BALDDropout'\n"
      ],
      "metadata": {
        "colab": {
          "base_uri": "https://localhost:8080/"
        },
        "id": "R_H69RMqIKuo",
        "outputId": "f0231261-afc7-4d1c-804d-90ab51c38625"
      },
      "execution_count": null,
      "outputs": [
        {
          "output_type": "stream",
          "name": "stdout",
          "text": [
            "{'dataset_name': 'SVHN',\n",
            " 'n_init_labeled': 5000,\n",
            " 'n_query': 10000,\n",
            " 'n_round': 10,\n",
            " 'seed': 1,\n",
            " 'strategy_name': 'BALDDropout'}\n",
            "\n",
            "Downloading http://ufldl.stanford.edu/housenumbers/train_32x32.mat to ./data/SVHN/train_32x32.mat\n",
            "100% 182040794/182040794 [00:14<00:00, 12216729.94it/s]\n",
            "Downloading http://ufldl.stanford.edu/housenumbers/test_32x32.mat to ./data/SVHN/test_32x32.mat\n",
            "100% 64275384/64275384 [00:07<00:00, 8686781.15it/s] \n",
            "Train size: 73257 , Test size: 26032\n",
            "number of labeled pool: 5000\n",
            "number of unlabeled pool: 65000\n",
            "number of testing pool: 26032\n",
            "\n",
            "Round 0\n",
            "100%|███████████████████████████████████████████████████████████████| 20/20 [00:48<00:00,  2.41s/it]\n",
            "Round 0 trainig accuracy: 0.18958571428571427\n",
            "Round 0 testing accuracy: 0.19598955132145052\n",
            "Round 1\n",
            "100%|███████████████████████████████████████████████████████████████| 20/20 [02:13<00:00,  6.66s/it]\n",
            "Round 1 training accuracy: 0.8356285714285714\n",
            "Round 1 testing accuracy: 0.8176475107559926\n",
            "Round 2\n",
            "100%|███████████████████████████████████████████████████████████████| 20/20 [03:41<00:00, 11.07s/it]\n",
            "Round 2 training accuracy: 0.8943714285714286\n",
            "Round 2 testing accuracy: 0.8733866011063307\n",
            "Round 3\n",
            "100%|███████████████████████████████████████████████████████████████| 20/20 [05:06<00:00, 15.30s/it]\n",
            "Round 3 training accuracy: 0.9164571428571429\n",
            "Round 3 testing accuracy: 0.8834895513214506\n",
            "Round 4\n",
            "100%|███████████████████████████████████████████████████████████████| 20/20 [06:35<00:00, 19.77s/it]\n",
            "Round 4 training accuracy: 0.9373285714285714\n",
            "Round 4 testing accuracy: 0.9041180086047941\n",
            "Round 5\n",
            "100%|███████████████████████████████████████████████████████████████| 20/20 [07:59<00:00, 24.00s/it]\n",
            "Round 5 training accuracy: 0.9416857142857142\n",
            "Round 5 testing accuracy: 0.9080746773202213\n",
            "Round 6\n",
            "100%|███████████████████████████████████████████████████████████████| 20/20 [09:23<00:00, 28.16s/it]\n",
            "Round 6 training accuracy: 0.9441428571428572\n",
            "Round 6 testing accuracy: 0.9092655193607867\n",
            "Round 7\n",
            "100%|███████████████████████████████████████████████████████████████| 20/20 [10:04<00:00, 30.23s/it]\n",
            "Round 7 training accuracy: 0.9440142857142857\n",
            "Round 7 testing accuracy: 0.9082667486170867\n",
            "Round 8\n",
            "100%|███████████████████████████████████████████████████████████████| 20/20 [10:04<00:00, 30.23s/it]\n",
            "Round 8 training accuracy: 0.9428142857142857\n",
            "Round 8 testing accuracy: 0.9100722188076213\n",
            "Round 9\n",
            "100%|███████████████████████████████████████████████████████████████| 20/20 [10:05<00:00, 30.29s/it]\n",
            "Round 9 training accuracy: 0.9438\n",
            "Round 9 testing accuracy: 0.9053856791641057\n",
            "Round 10\n",
            "100%|███████████████████████████████████████████████████████████████| 20/20 [10:02<00:00, 30.10s/it]\n",
            "Round 10 training accuracy: 0.9463142857142857\n",
            "Round 10 testing accuracy: 0.9088813767670559\n"
          ]
        }
      ]
    },
    {
      "cell_type": "code",
      "source": [
        "!python /content/deep-active-learning/demo.py  --seed 1 --n_init_labeled 5000 --n_query 10000 --n_round 10 --dataset_name 'SVHN' --strategy_name 'EntropySampling'\n"
      ],
      "metadata": {
        "colab": {
          "base_uri": "https://localhost:8080/"
        },
        "id": "XLGvCeow0Ghd",
        "outputId": "04c35c1a-3b51-4e06-d240-1a500f37b90a"
      },
      "execution_count": null,
      "outputs": [
        {
          "output_type": "stream",
          "name": "stdout",
          "text": [
            "{'dataset_name': 'SVHN',\n",
            " 'n_init_labeled': 5000,\n",
            " 'n_query': 10000,\n",
            " 'n_round': 10,\n",
            " 'seed': 1,\n",
            " 'strategy_name': 'EntropySampling'}\n",
            "\n",
            "Using downloaded and verified file: ./data/SVHN/train_32x32.mat\n",
            "Using downloaded and verified file: ./data/SVHN/test_32x32.mat\n",
            "Train size: 73257 , Test size: 26032\n",
            "number of labeled pool: 5000\n",
            "number of unlabeled pool: 65000\n",
            "number of testing pool: 26032\n",
            "\n",
            "Round 0\n",
            "100%|███████████████████████████████████████████████████████████████| 20/20 [00:47<00:00,  2.37s/it]\n",
            "Round 0 trainig accuracy: 0.18958571428571427\n",
            "Round 0 testing accuracy: 0.19598955132145052\n",
            "Round 1\n",
            "100%|███████████████████████████████████████████████████████████████| 20/20 [02:13<00:00,  6.70s/it]\n",
            "Round 1 training accuracy: 0.7846\n",
            "Round 1 testing accuracy: 0.7672864167178857\n",
            "Round 2\n",
            "100%|███████████████████████████████████████████████████████████████| 20/20 [03:41<00:00, 11.07s/it]\n",
            "Round 2 training accuracy: 0.8242428571428572\n",
            "Round 2 testing accuracy: 0.8070835894283959\n",
            "Round 3\n",
            "100%|███████████████████████████████████████████████████████████████| 20/20 [05:10<00:00, 15.52s/it]\n",
            "Round 3 training accuracy: 0.9008\n",
            "Round 3 testing accuracy: 0.8798786109403811\n",
            "Round 4\n",
            "100%|███████████████████████████████████████████████████████████████| 20/20 [06:39<00:00, 19.99s/it]\n",
            "Round 4 training accuracy: 0.9319\n",
            "Round 4 testing accuracy: 0.8999692685925015\n",
            "Round 5\n",
            "100%|███████████████████████████████████████████████████████████████| 20/20 [08:08<00:00, 24.42s/it]\n",
            "Round 5 training accuracy: 0.9372142857142857\n",
            "Round 5 testing accuracy: 0.9039643515673018\n",
            "Round 6\n",
            "100%|███████████████████████████████████████████████████████████████| 20/20 [09:30<00:00, 28.50s/it]\n",
            "Round 6 training accuracy: 0.9405428571428571\n",
            "Round 6 testing accuracy: 0.9032344806392133\n",
            "Round 7\n",
            "100%|███████████████████████████████████████████████████████████████| 20/20 [10:08<00:00, 30.41s/it]\n",
            "Round 7 training accuracy: 0.9450142857142857\n",
            "Round 7 testing accuracy: 0.9068070067609096\n",
            "Round 8\n",
            "100%|███████████████████████████████████████████████████████████████| 20/20 [10:08<00:00, 30.41s/it]\n",
            "Round 8 training accuracy: 0.9454\n",
            "Round 8 testing accuracy: 0.9105716041794715\n",
            "Round 9\n",
            "100%|███████████████████████████████████████████████████████████████| 20/20 [10:03<00:00, 30.19s/it]\n",
            "Round 9 training accuracy: 0.9439857142857143\n",
            "Round 9 testing accuracy: 0.9089966195451752\n",
            "Round 10\n",
            "100%|███████████████████████████████████████████████████████████████| 20/20 [10:04<00:00, 30.23s/it]\n",
            "Round 10 training accuracy: 0.9470285714285714\n",
            "Round 10 testing accuracy: 0.9104563614013522\n"
          ]
        }
      ]
    }
  ]
}